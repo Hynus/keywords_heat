{
 "cells": [
  {
   "cell_type": "code",
   "execution_count": 1,
   "metadata": {},
   "outputs": [],
   "source": [
    "from pyquery import PyQuery as pq\n",
    "import requests"
   ]
  },
  {
   "cell_type": "code",
   "execution_count": 59,
   "metadata": {},
   "outputs": [],
   "source": [
    "def handle_total_result_str(coutry,desc):    \n",
    "    str_list = desc.split(' ')\n",
    "    print str_list\n",
    "    if country == 'fr':\n",
    "        if str_list[3].split(u'\\xa0')[0].isdigit() and str_list[3].split(u'\\xa0')[1].isdigit():\n",
    "            return str_list[3].split(u'\\xa0')[0] + ',' + str_list[3].split(u'\\xa0')[1]\n",
    "        elif str_list[0].split(u'\\xa0')[0].isdigit():\n",
    "            return str_list[0].split(u'\\xa0')[0]\n",
    "    if str_list[4].replace('.', '').isdigit():\n",
    "        return str_list[4].replace('.', ',')\n",
    "    elif str_list[3].replace(',','').isdigit():\n",
    "        return str_list[3]\n",
    "    elif str_list[2].isdigit():\n",
    "        return str_list[2]\n",
    "    elif str_list[0].isdigit():\n",
    "        return str_list[0]\n",
    "\n",
    "def get_total_result_count(country, keyword):\n",
    "    req_url = 'https://www.amazon.' + country + '/s/ref=sr_pg_1?url=search-alias%3Daps&field-keywords=' + keyword.replace(' ', '+') + '&rh=i%3Aaps%2Ck%3A' + keyword.replace(' ', '+')\n",
    "    headers = {\n",
    "        'Accept': 'text/html,application/xhtml+xml,application/xml;q=0.9,image/webp,image/apng,*/*;q=0.8',\n",
    "        'Accept-Encoding': 'gzip, deflate, br',\n",
    "        'Accept-Language': 'zh-CN,zh;q=0.9,en;q=0.8',\n",
    "        'Cache-Control': 'max-age=0',\n",
    "        'Connection': 'keep-alive',\n",
    "        'Host': 'www.amazon.' + country,\n",
    "        'Upgrade-Insecure-Requests': '1',\n",
    "        'User-Agent': 'Mozilla/5.0 (Macintosh; Intel Mac OS X 10_13_2) AppleWebKit/537.36 (KHTML, like Gecko) Chrome/65.0.3325.162 Safari/537.36'\n",
    "    }\n",
    "    resp = requests.get(url=req_url, headers=headers)\n",
    "    doc = pq(resp.content)\n",
    "    count = 0\n",
    "    # 判断是否为广告位逻辑\n",
    "    while doc('li#result_' + str(count)).text() != '':\n",
    "        if len(doc('li#result_' + str(count)).find('h5').text().split(' ')[0]) != 0:\n",
    "            print True\n",
    "        else:\n",
    "            print '---'\n",
    "        count += 1\n",
    "    print count\n",
    "    total_desc_str = doc('span#s-result-count').text()\n",
    "    print total_desc_str\n",
    "    return handle_total_result_str(country, total_desc_str)"
   ]
  },
  {
   "cell_type": "code",
   "execution_count": 62,
   "metadata": {},
   "outputs": [
    {
     "name": "stdout",
     "output_type": "stream",
     "text": [
      "---\n",
      "---\n",
      "---\n",
      "---\n",
      "---\n",
      "---\n",
      "---\n",
      "---\n",
      "---\n",
      "---\n",
      "---\n",
      "---\n",
      "---\n",
      "---\n",
      "---\n",
      "---\n",
      "True\n",
      "True\n",
      "True\n",
      "True\n",
      "20\n",
      "1-16 von 151 Ergebnissen oder Vorschlägen für \"arduino uno ethernet\"\n",
      "[u'1-16', u'von', u'151', u'Ergebnissen', u'oder', u'Vorschl\\xe4gen', u'f\\xfcr', u'\"arduino', u'uno', u'ethernet\"']\n",
      "151\n"
     ]
    }
   ],
   "source": [
    "country = 'de'\n",
    "keyword = 'arduino uno ethernet'\n",
    "xx = get_total_result_count(country, keyword)\n",
    "print xx"
   ]
  },
  {
   "cell_type": "code",
   "execution_count": null,
   "metadata": {},
   "outputs": [],
   "source": []
  }
 ],
 "metadata": {
  "kernelspec": {
   "display_name": "Python 2",
   "language": "python",
   "name": "python2"
  },
  "language_info": {
   "codemirror_mode": {
    "name": "ipython",
    "version": 2
   },
   "file_extension": ".py",
   "mimetype": "text/x-python",
   "name": "python",
   "nbconvert_exporter": "python",
   "pygments_lexer": "ipython2",
   "version": "2.7.13"
  }
 },
 "nbformat": 4,
 "nbformat_minor": 2
}
